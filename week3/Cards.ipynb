{
 "cells": [
  {
   "cell_type": "code",
   "execution_count": 230,
   "metadata": {
    "collapsed": false
   },
   "outputs": [],
   "source": [
    "import random\n",
    "class UnknownSuitError(Exception):\n",
    "    pass\n",
    "\n",
    "class Card:\n",
    "    ranks_short = [\"A\", 2, 3, 4, 5, 6, 7, 8, 9, 10, \"J\", \"Q\", \"K\"]\n",
    "    ranks = [\"Ace\", 2, 3, 4, 5, 6, 7, 8, 9, 10, \"Jack\", \"Queen\", \"King\"]\n",
    "    suits = [\"Clubs\", \"Diamonds\", \"Hearts\", \"Spades\"]\n",
    "    suits_short = [chr(9827), chr(9830), chr(9829), chr(9824)]\n",
    "    \n",
    "    def __init__(self, rank, suit):\n",
    "        if isinstance(suit, str):\n",
    "            try:\n",
    "                suit = Card.suits.index(suit)\n",
    "            except:\n",
    "                raise UnknownSuitError\n",
    "        self.suit = suit\n",
    "        \n",
    "        self.rank = rank\n",
    "\n",
    "    def __repr__(self):\n",
    "        return \"{}{}\".format(str(Card.ranks_short[self.rank]), Card.suits_short[self.suit])\n",
    "\n",
    "        \n",
    "    def __str__(self):\n",
    "        return \"{} of {}\".format(Card.ranks[self.rank], Card.suits[self.suit])\n",
    "    \n",
    "    def __eq__(self, other):\n",
    "        return self.rank == other.rank and self.suit == other.suit\n",
    "    \n",
    "    def __lt__(self, other):\n",
    "        return self.rank < other.rank\n",
    "\n",
    "class Deck:\n",
    "    def __init__(self):\n",
    "        self.cards = [Card(c%13, c//13) for c in range(52)]\n",
    "        \n",
    "    def __repr__(self):\n",
    "        return str(self.cards)\n",
    "    \n",
    "    def shuffle(self):\n",
    "        random.shuffle(self.cards)\n",
    "    \n",
    "    def deal_card(self):\n",
    "        return self.cards.pop()\n",
    "    \n",
    "    def deal_cards(self, n):\n",
    "        out = self.cards[-n:]\n",
    "        self.cards = self.cards[:-n]\n",
    "        return out\n",
    "    \n",
    "    def reset(self):\n",
    "        self.cards = [Card(c%13, c//13) for c in range(52)]\n",
    "    \n",
    "    def cards_left(self):\n",
    "        return len(self.cards) > 0"
   ]
  },
  {
   "cell_type": "code",
   "execution_count": 231,
   "metadata": {
    "collapsed": false
   },
   "outputs": [],
   "source": [
    "def test_card():\n",
    "    c = Card(4, 3)\n",
    "    \n",
    "def test_compare():\n",
    "    c = Card(4, 3)\n",
    "    d = Card(5, 3)\n",
    "    assert c == Card(4, 3)\n",
    "    assert c != d\n",
    "    assert c < d\n",
    "    assert not c > d\n",
    "    \n",
    "def test_ranks():\n",
    "    assert Card.ranks == [\"Ace\", 2, 3, 4, 5, 6, 7, 8, 9, 10, \"Jack\", \"Queen\", \"King\"]\n",
    "    \n",
    "def test_suits():\n",
    "    assert Card.suits == [\"Clubs\", \"Diamonds\", \"Hearts\", \"Spades\"]"
   ]
  },
  {
   "cell_type": "code",
   "execution_count": 232,
   "metadata": {
    "collapsed": false
   },
   "outputs": [],
   "source": [
    "def run_tests():\n",
    "    test_card()\n",
    "    test_ranks()\n",
    "    test_suits()\n",
    "    test_compare()\n",
    "\n",
    "run_tests()"
   ]
  },
  {
   "cell_type": "code",
   "execution_count": 241,
   "metadata": {
    "collapsed": false,
    "scrolled": true
   },
   "outputs": [],
   "source": [
    "c = Card(4, \"Spades\")\n",
    "d = Deck()"
   ]
  },
  {
   "cell_type": "code",
   "execution_count": 234,
   "metadata": {
    "collapsed": false
   },
   "outputs": [
    {
     "name": "stdout",
     "output_type": "stream",
     "text": [
      "[9♠, 10♠, J♠, Q♠, K♠]\n",
      "[5♦, 3♣, A♦, A♣, 5♣, 8♠, Q♥, 7♥, 10♦, 2♣, 9♦, 6♣, Q♣, 2♥, 3♥, J♣, 4♥, 3♦, 10♥, 4♦, 2♠, Q♦, 8♦, J♦, 8♣, 9♣, A♥, 8♥, 4♣, 5♥, 5♠, 10♣, 9♥, 7♠, J♥, 7♣, 3♠, K♥, 6♥, 6♠, 4♠, 2♦, K♦, 7♦, A♠, K♣, 6♦]\n"
     ]
    }
   ],
   "source": [
    "print(d.deal_cards(5))\n",
    "d.shuffle()\n",
    "print(d)"
   ]
  },
  {
   "cell_type": "code",
   "execution_count": 235,
   "metadata": {
    "collapsed": false
   },
   "outputs": [
    {
     "data": {
      "text/plain": [
       "'5 of Spades'"
      ]
     },
     "execution_count": 235,
     "metadata": {},
     "output_type": "execute_result"
    }
   ],
   "source": [
    "str(c)"
   ]
  },
  {
   "cell_type": "code",
   "execution_count": 236,
   "metadata": {
    "collapsed": false
   },
   "outputs": [
    {
     "data": {
      "text/plain": [
       "'5♠'"
      ]
     },
     "execution_count": 236,
     "metadata": {},
     "output_type": "execute_result"
    }
   ],
   "source": [
    "repr(c)"
   ]
  },
  {
   "cell_type": "code",
   "execution_count": 242,
   "metadata": {
    "collapsed": false
   },
   "outputs": [
    {
     "name": "stdout",
     "output_type": "stream",
     "text": [
      "2 of Clubs\n",
      "4 of Spades\n",
      "7 of Spades\n",
      "6 of Hearts\n",
      "8 of Spades\n",
      "5 of Spades\n",
      "8 of Diamonds\n",
      "10 of Clubs\n",
      "Queen of Clubs\n",
      "Jack of Diamonds\n",
      "3 of Clubs\n",
      "4 of Diamonds\n",
      "Ace of Diamonds\n",
      "3 of Hearts\n",
      "9 of Diamonds\n",
      "Queen of Diamonds\n",
      "8 of Hearts\n",
      "2 of Hearts\n",
      "7 of Clubs\n",
      "6 of Spades\n",
      "Queen of Hearts\n",
      "6 of Clubs\n",
      "10 of Spades\n",
      "3 of Spades\n",
      "Queen of Spades\n",
      "9 of Spades\n",
      "King of Clubs\n",
      "2 of Diamonds\n",
      "King of Spades\n",
      "King of Hearts\n",
      "3 of Diamonds\n",
      "4 of Hearts\n",
      "Jack of Hearts\n",
      "10 of Diamonds\n",
      "9 of Hearts\n",
      "7 of Diamonds\n",
      "Jack of Spades\n",
      "Ace of Hearts\n",
      "5 of Clubs\n",
      "8 of Clubs\n",
      "7 of Hearts\n",
      "6 of Diamonds\n",
      "King of Diamonds\n",
      "Ace of Spades\n",
      "Ace of Clubs\n",
      "5 of Diamonds\n",
      "5 of Hearts\n",
      "Jack of Clubs\n",
      "9 of Clubs\n",
      "10 of Hearts\n",
      "2 of Spades\n",
      "4 of Clubs\n"
     ]
    }
   ],
   "source": [
    "d.shuffle()\n",
    "while d.cards_left():\n",
    "    curr_card = d.deal_card()\n",
    "    print(curr_card)"
   ]
  },
  {
   "cell_type": "code",
   "execution_count": null,
   "metadata": {
    "collapsed": true
   },
   "outputs": [],
   "source": []
  }
 ],
 "metadata": {
  "kernelspec": {
   "display_name": "Python 3",
   "language": "python",
   "name": "python3"
  },
  "language_info": {
   "codemirror_mode": {
    "name": "ipython",
    "version": 3
   },
   "file_extension": ".py",
   "mimetype": "text/x-python",
   "name": "python",
   "nbconvert_exporter": "python",
   "pygments_lexer": "ipython3",
   "version": "3.5.2"
  }
 },
 "nbformat": 4,
 "nbformat_minor": 0
}
