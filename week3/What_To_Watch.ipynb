{
 "cells": [
  {
   "cell_type": "code",
   "execution_count": 24,
   "metadata": {
    "collapsed": false
   },
   "outputs": [
    {
     "ename": "IndentationError",
     "evalue": "expected an indented block (<ipython-input-24-fbb05d0e0c4a>, line 6)",
     "output_type": "error",
     "traceback": [
      "\u001b[0;36m  File \u001b[0;32m\"<ipython-input-24-fbb05d0e0c4a>\"\u001b[0;36m, line \u001b[0;32m6\u001b[0m\n\u001b[0;31m    class Movie:\u001b[0m\n\u001b[0m        ^\u001b[0m\n\u001b[0;31mIndentationError\u001b[0m\u001b[0;31m:\u001b[0m expected an indented block\n"
     ]
    }
   ],
   "source": [
    "import random\n",
    "import csv\n",
    "\n",
    "class MovieRatings:\n",
    "    pass\n",
    "    #responsible for knowing a movie, and knowing how to handle rating math?\n",
    "    def __init__(self, movie, rating_list):\n",
    "        self.movie = movie\n",
    "        self.rating_list = rating_list\n",
    "    \n",
    "    def avg(self):\n",
    "        return sum([r.rating for r in self rating_list])/len(self.rating_list)\n",
    "    \n",
    "    \n",
    "\n",
    "class Movie:\n",
    "    def __init__(self, id, title, release_date, imdb_link):\n",
    "        self.id = id\n",
    "        self.title = title\n",
    "        self.release_date = release_date\n",
    "        self.imdb = imdb_link\n",
    "    \n",
    "    def __str__(self):\n",
    "        return \"{} {}\\nreleased on: {}\\nclick here for more info: {}\".format(self.id, self.title, self.release_date, self.imdb)\n",
    "    \n",
    "    def __repr__(self):\n",
    "        return \"{} {}\".format(self.id, self.title)\n",
    "    \n",
    "    \n",
    "\n",
    "class Rating:\n",
    "    def __init__(self, movie_id, user_id, rating, timestamp):\n",
    "        self.movie_id = movie_id\n",
    "        self.user_id = user_id\n",
    "        self.rating = int(rating)\n",
    "        self.timestamp = timestamp\n",
    "    \n",
    "    def __repr__(self):\n",
    "        return \"{} {} {}\".format(self.movie_id, self.user_id, self.rating)\n",
    "\n",
    "        \n",
    "class User:\n",
    "    @staticmethod\n",
    "    def first_name():\n",
    "        return random.choice([\"Sam\", \"Nadia\", \"Bernadette\", \"Raj\", \"Ryan\", \"Josh\", \"Luis\", \"Will\", \"Dana\", \"Graham\", \"Eric\", \"Bryce\", \"Dan\", \"Nicole\"])\n",
    "\n",
    "    @staticmethod\n",
    "    def middle_name():\n",
    "        return random.choice([\"David\", \"John\", \"Michael\", \"Mike\", \"Jim\", \"John\", \"Joe\", \"Nathan\", \"Luke\", \"Mark\", \"Gertrude\", \"Lois\",])\n",
    "\n",
    "    @staticmethod\n",
    "    def last_name():\n",
    "        return random.choice([\"Smith\", \"Adams\", \"Jones\", \"Cooper\", \"Thomas\", \"Doe\", \"Dough\", \"Warren\", \"Walker\"])\n",
    "\n",
    "    \n",
    "    def __init__(self, id, age, gender, occupation, zipcode):\n",
    "        self.id = id\n",
    "        self.name = User.first_name() + \" \" + User.middle_name() + \" \" + User.last_name()\n",
    "        self.age = age\n",
    "        self.gender = gender\n",
    "        self.job = occupation\n",
    "        self.zipcode = zipcode\n",
    "    \n",
    "    def __repr__(self):\n",
    "        return self.name\n"
   ]
  },
  {
   "cell_type": "code",
   "execution_count": 2,
   "metadata": {
    "collapsed": false
   },
   "outputs": [
    {
     "name": "stdout",
     "output_type": "stream",
     "text": [
      "item == movies\n",
      "1|Toy Story (1995)|01-Jan-1995||http://us.imdb.com/M/title-exact?Toy%20Story%20(1995)|0|0|0|1|1|1|0|0|0|0|0|0|0|0|0|0|0|0|0\n",
      "2|GoldenEye (1995)|01-Jan-1995||http://us.imdb.com/M/title-exact?GoldenEye%20(1995)|0|1|1|0|0|0|0|0|0|0|0|0|0|0|0|0|1|0|0\n",
      "user == user\n",
      "1|24|M|technician|85711\n",
      "2|53|F|other|94043\n",
      "data == ratings\n",
      "196\t242\t3\t881250949\n",
      "186\t302\t3\t891717742\n"
     ]
    }
   ],
   "source": [
    "#Jupyter notebook uses \n",
    "!echo item == movies\n",
    "!head -2 data/ml-100k/u.item\n",
    "!echo user == user\n",
    "!head -2 data/ml-100k/u.user\n",
    "!echo data == ratings\n",
    "!head -2 data/ml-100k/u.data\n"
   ]
  },
  {
   "cell_type": "code",
   "execution_count": 17,
   "metadata": {
    "collapsed": false
   },
   "outputs": [],
   "source": [
    "movies_by_id = {}\n",
    "users_by_id = {}\n",
    "ratings_by_movie_id = {}\n",
    "ratings_by_user_id = {}\n",
    "\n",
    "def load_data():\n",
    "    movie_filename = \"data/ml-100k/u.item\"\n",
    "    user_filename = \"data/ml-100k/u.user\"\n",
    "    rating_filename = \"data/ml-100k/u.data\"\n",
    "    \n",
    "    with open(movie_filename, \"r\", encoding=\"latin_1\") as f:\n",
    "        dict_reader = csv.DictReader(f, fieldnames=(\"id\", \"title\", \"release_date\", \"imdb_link\"), delimiter=\"|\")\n",
    "        for row in dict_reader:\n",
    "            del row[None]\n",
    "            m = Movie(**row)\n",
    "            movies_by_id[m.id] = m\n",
    "    \n",
    "    with open(user_filename, \"r\") as f:\n",
    "        dict_reader = csv.DictReader(f, fieldnames=(\"id\", \"age\", \"gender\", \"occupation\", \"zipcode\"), delimiter=\"|\")\n",
    "        for row in dict_reader:\n",
    "            u = User(**row)\n",
    "            users_by_id[u.id] = u\n",
    "\n",
    "    with open(rating_filename, \"r\") as f:\n",
    "        dict_reader = csv.DictReader(f, fieldnames=(\"user_id\", \"movie_id\", \"rating\", \"timestamp\"), delimiter=\"\\t\")\n",
    "        for row in dict_reader:\n",
    "            r = Rating(**row)\n",
    "            if r.movie_id in ratings_by_movie_id:\n",
    "                ratings_by_movie_id[r.movie_id].append(r)\n",
    "            else:\n",
    "                ratings_by_movie_id[r.movie_id] = [r]\n",
    "            \n",
    "            ratings_by_user_id.setdefault(r.user_id, []).append(r)\n",
    "    \n",
    "#     return movies_by_id, users_by_id, ratings_by_user_id, ratings_by_movie_id\n",
    "    \n",
    "\n",
    "def average_rating_for_movie(movie):\n",
    "    return average_rating_for_movie_id(movie.id)\n",
    "    \n",
    "def average_rating_for_movie_id(movie_id):\n",
    "    return sum([r.rating for r in ratings_by_movie_id[movie_id]]) / len(ratings_by_movie_id[movie_id])\n",
    "\n",
    "def uf_avg_rating_for_movie(movie_id):\n",
    "    print(\"{}({}) {}\".format(average_rating_for_movie(movie_id), len(ratings_by_movie_id[movie_id]), movies_by_id[movie_id].title))\n",
    "    \n",
    "def top_movies_by_rating(how_many_to_show, min_ratings):\n",
    "    #sort by this: average_rating_for_movie(movie_id)\n",
    "    return sorted([(m, average_rating_for_movie(m)) for m in movies_by_id.values() if len(ratings_by_movie_id[m.id]) >= min_ratings], key=lambda x: x[1], reverse=True)[:how_many_to_show]\n",
    "\n",
    "\n",
    "\n",
    "def top_movies_by_rating_for_user(how_many_to_show, min_ratings, user):\n",
    "    #sort by this: average_rating_for_movie(movie_id)\n",
    "    unseen_movies = []\n",
    "    for movie in movies_by_id.values():\n",
    "        if movie.id not in [r.movie_id for r in ratings_by_user_id[user.id]]:\n",
    "            if len(ratings_by_movie_id[movie.id]) >= min_ratings:\n",
    "                unseen_movies.append((movie, average_rating_for_movie(movie)))\n",
    "    unseen_movies.sort(key=lambda t: t[1], reverse=True)\n",
    "    return unseen_movies[:how_many_to_show]\n"
   ]
  },
  {
   "cell_type": "code",
   "execution_count": 18,
   "metadata": {
    "collapsed": false
   },
   "outputs": [],
   "source": [
    "load_data()"
   ]
  },
  {
   "cell_type": "code",
   "execution_count": 19,
   "metadata": {
    "collapsed": false
   },
   "outputs": [
    {
     "data": {
      "text/plain": [
       "[(408 Close Shave, A (1995), 4.491071428571429),\n",
       " (318 Schindler's List (1993), 4.466442953020135),\n",
       " (169 Wrong Trousers, The (1993), 4.466101694915254),\n",
       " (483 Casablanca (1942), 4.45679012345679),\n",
       " (114 Wallace & Gromit: The Best of Aardman Animation (1996),\n",
       "  4.447761194029851),\n",
       " (64 Shawshank Redemption, The (1994), 4.445229681978798),\n",
       " (603 Rear Window (1954), 4.3875598086124405),\n",
       " (12 Usual Suspects, The (1995), 4.385767790262173),\n",
       " (50 Star Wars (1977), 4.3584905660377355),\n",
       " (178 12 Angry Men (1957), 4.344),\n",
       " (513 Third Man, The (1949), 4.333333333333333),\n",
       " (134 Citizen Kane (1941), 4.292929292929293),\n",
       " (963 Some Folks Call It a Sling Blade (1993), 4.2926829268292686),\n",
       " (427 To Kill a Mockingbird (1962), 4.292237442922374),\n",
       " (357 One Flew Over the Cuckoo's Nest (1975), 4.291666666666667),\n",
       " (98 Silence of the Lambs, The (1991), 4.28974358974359),\n",
       " (480 North by Northwest (1959), 4.284916201117318),\n",
       " (127 Godfather, The (1972), 4.283292978208232),\n",
       " (285 Secrets & Lies (1996), 4.265432098765432),\n",
       " (272 Good Will Hunting (1997), 4.262626262626263)]"
      ]
     },
     "execution_count": 19,
     "metadata": {},
     "output_type": "execute_result"
    }
   ],
   "source": [
    "top_movies_by_rating(20, 10)"
   ]
  },
  {
   "cell_type": "code",
   "execution_count": 20,
   "metadata": {
    "collapsed": false
   },
   "outputs": [
    {
     "data": {
      "text/plain": [
       "[(408 Close Shave, A (1995), 4.491071428571429),\n",
       " (318 Schindler's List (1993), 4.466442953020135),\n",
       " (483 Casablanca (1942), 4.45679012345679),\n",
       " (603 Rear Window (1954), 4.3875598086124405),\n",
       " (513 Third Man, The (1949), 4.333333333333333),\n",
       " (963 Some Folks Call It a Sling Blade (1993), 4.2926829268292686),\n",
       " (427 To Kill a Mockingbird (1962), 4.292237442922374),\n",
       " (357 One Flew Over the Cuckoo's Nest (1975), 4.291666666666667),\n",
       " (480 North by Northwest (1959), 4.284916201117318),\n",
       " (285 Secrets & Lies (1996), 4.265432098765432),\n",
       " (657 Manchurian Candidate, The (1962), 4.259541984732825),\n",
       " (474 Dr. Strangelove or: How I Learned to Stop Worrying and Love the Bomb (1963),\n",
       "  4.252577319587629),\n",
       " (479 Vertigo (1958), 4.251396648044692),\n",
       " (313 Titanic (1997), 4.2457142857142856),\n",
       " (511 Lawrence of Arabia (1962), 4.23121387283237),\n",
       " (641 Paths of Glory (1957), 4.212121212121212),\n",
       " (484 Maltese Falcon, The (1941), 4.2101449275362315),\n",
       " (515 Boot, Das (1981), 4.203980099502488),\n",
       " (488 Sunset Blvd. (1950), 4.2),\n",
       " (316 As Good As It Gets (1997), 4.196428571428571)]"
      ]
     },
     "execution_count": 20,
     "metadata": {},
     "output_type": "execute_result"
    }
   ],
   "source": [
    "top_movies_by_rating_for_user(20, 10, users_by_id['1'])"
   ]
  },
  {
   "cell_type": "code",
   "execution_count": 22,
   "metadata": {
    "collapsed": false
   },
   "outputs": [],
   "source": [
    "def compare_users(u1, u2):\n",
    "    \n",
    "    rl1 = ratings_by_user_id[u1.id]\n",
    "    rl2 = ratings_by_user_id[u2.id]\n",
    "    \n",
    "    print(rl1)\n",
    "    print(rl2)\n",
    "    "
   ]
  },
  {
   "cell_type": "code",
   "execution_count": 23,
   "metadata": {
    "collapsed": false
   },
   "outputs": [
    {
     "name": "stdout",
     "output_type": "stream",
     "text": [
      "[61 1 4, 189 1 3, 33 1 4, 160 1 4, 20 1 4, 202 1 5, 171 1 5, 265 1 4, 155 1 2, 117 1 3, 47 1 4, 222 1 4, 253 1 5, 113 1 5, 227 1 4, 17 1 3, 90 1 4, 64 1 5, 92 1 3, 228 1 5, 266 1 1, 121 1 4, 114 1 5, 132 1 4, 74 1 1, 134 1 4, 98 1 4, 186 1 4, 221 1 5, 84 1 4, 31 1 3, 70 1 3, 60 1 5, 177 1 5, 27 1 2, 260 1 1, 145 1 2, 174 1 5, 159 1 3, 82 1 5, 56 1 4, 272 1 3, 80 1 4, 229 1 4, 140 1 1, 225 1 2, 235 1 5, 120 1 1, 125 1 3, 215 1 3, 6 1 5, 104 1 1, 49 1 3, 206 1 4, 76 1 4, 72 1 4, 185 1 4, 96 1 5, 213 1 2, 233 1 2, 258 1 5, 81 1 5, 78 1 1, 212 1 4, 143 1 1, 151 1 4, 51 1 4, 175 1 5, 107 1 4, 218 1 3, 209 1 4, 259 1 1, 108 1 5, 262 1 3, 12 1 5, 14 1 5, 97 1 3, 44 1 5, 53 1 3, 163 1 4, 210 1 4, 184 1 4, 157 1 4, 201 1 3, 150 1 5, 183 1 5, 248 1 4, 208 1 5, 128 1 4, 242 1 5, 148 1 2, 112 1 1, 193 1 4, 264 1 2, 219 1 1, 232 1 3, 236 1 4, 252 1 2, 200 1 3, 180 1 3, 250 1 4, 85 1 3, 91 1 5, 10 1 3, 254 1 1, 129 1 5, 241 1 4, 130 1 3, 255 1 2, 103 1 1, 118 1 3, 54 1 3, 267 1 4, 24 1 3, 86 1 5, 196 1 5, 39 1 4, 164 1 3, 230 1 4, 36 1 2, 23 1 4, 224 1 5, 73 1 3, 67 1 3, 65 1 4, 190 1 5, 100 1 5, 226 1 3, 243 1 1, 154 1 5, 214 1 4, 161 1 4, 62 1 3, 188 1 3, 102 1 2, 69 1 3, 170 1 5, 38 1 3, 9 1 5, 246 1 5, 22 1 4, 21 1 1, 179 1 3, 187 1 4, 135 1 4, 68 1 4, 146 1 4, 176 1 5, 166 1 5, 138 1 1, 247 1 1, 89 1 5, 2 1 3, 30 1 3, 63 1 2, 249 1 4, 269 1 5, 32 1 5, 141 1 3, 211 1 3, 40 1 3, 270 1 5, 133 1 4, 239 1 4, 194 1 4, 256 1 4, 220 1 3, 93 1 5, 8 1 1, 205 1 3, 234 1 4, 105 1 2, 147 1 3, 99 1 3, 1 1 5, 197 1 5, 173 1 5, 75 1 4, 268 1 5, 34 1 2, 144 1 4, 271 1 2, 119 1 5, 26 1 3, 158 1 3, 37 1 2, 181 1 5, 136 1 3, 257 1 4, 237 1 2, 131 1 1, 109 1 5, 182 1 4, 71 1 3, 223 1 5, 46 1 4, 169 1 5, 41 1 2, 162 1 4, 110 1 1, 66 1 4, 77 1 4, 199 1 4, 57 1 5, 50 1 5, 192 1 4, 178 1 5, 5 1 3, 87 1 5, 238 1 4, 156 1 4, 106 1 4, 167 1 2, 115 1 5, 11 1 2, 245 1 2, 35 1 1, 137 1 5, 127 1 5, 16 1 5, 79 1 4, 261 1 1, 45 1 5, 48 1 5, 25 1 4, 251 1 4, 195 1 5, 153 1 3, 101 1 2, 168 1 5, 123 1 4, 191 1 5, 4 1 3, 263 1 1, 203 1 4, 55 1 5, 42 1 5, 139 1 3, 240 1 3, 7 1 4, 149 1 2, 43 1 4, 165 1 5, 116 1 3, 198 1 5, 124 1 5, 95 1 4, 217 1 3, 58 1 4, 142 1 2, 216 1 5, 126 1 2, 83 1 3, 231 1 1, 204 1 5, 3 1 4, 207 1 5, 244 1 2, 19 1 5, 29 1 1, 18 1 4, 59 1 5, 15 1 5, 111 1 5, 52 1 4, 88 1 4, 13 1 5, 28 1 4, 172 1 5, 122 1 3, 152 1 5, 94 1 2]\n",
      "[292 2 4, 251 2 5, 50 2 5, 314 2 1, 297 2 4, 290 2 3, 312 2 3, 281 2 3, 13 2 4, 280 2 3, 303 2 4, 308 2 3, 307 2 3, 257 2 4, 316 2 5, 315 2 1, 301 2 4, 313 2 5, 279 2 4, 299 2 4, 298 2 3, 19 2 3, 277 2 4, 282 2 4, 111 2 4, 258 2 3, 295 2 4, 242 2 5, 283 2 5, 276 2 4, 1 2 4, 305 2 3, 14 2 4, 287 2 3, 291 2 3, 293 2 4, 294 2 1, 310 2 4, 309 2 1, 306 2 4, 25 2 4, 273 2 4, 10 2 2, 311 2 5, 269 2 4, 255 2 4, 284 2 4, 274 2 3, 237 2 4, 300 2 4, 100 2 5, 127 2 5, 285 2 5, 289 2 3, 304 2 4, 272 2 5, 278 2 3, 288 2 3, 286 2 4, 275 2 5, 302 2 5, 296 2 3]\n"
     ]
    }
   ],
   "source": [
    "compare_users(users_by_id['1'], users_by_id['2'])"
   ]
  },
  {
   "cell_type": "code",
   "execution_count": null,
   "metadata": {
    "collapsed": true
   },
   "outputs": [],
   "source": []
  }
 ],
 "metadata": {
  "kernelspec": {
   "display_name": "Python 3",
   "language": "python",
   "name": "python3"
  },
  "language_info": {
   "codemirror_mode": {
    "name": "ipython",
    "version": 3
   },
   "file_extension": ".py",
   "mimetype": "text/x-python",
   "name": "python",
   "nbconvert_exporter": "python",
   "pygments_lexer": "ipython3",
   "version": "3.5.2"
  }
 },
 "nbformat": 4,
 "nbformat_minor": 0
}
