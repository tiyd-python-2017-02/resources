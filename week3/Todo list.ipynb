{
 "cells": [
  {
   "cell_type": "code",
   "execution_count": 61,
   "metadata": {
    "collapsed": false
   },
   "outputs": [],
   "source": [
    "class Task:\n",
    "    def __init__(self, description):\n",
    "        self.description = description\n",
    "    \n",
    "    def __repr__(self):\n",
    "        return description\n",
    "    \n",
    "class TodoList:\n",
    "    def __init__(self, filename=\"task_list.txt\"):\n",
    "        self.task_list = []\n",
    "        self.filename = filename\n",
    "        \n",
    "    def add_task(self, task):\n",
    "        self.task_list.append(task)\n",
    "        \n",
    "    def remove_task(self):\n",
    "        for i, task in enumerate(self.task_list):\n",
    "            print(i, task)\n",
    "        who = int(input(\"which task would you like to remove\"))\n",
    "        self.task_list.pop(who)\n",
    "    \n",
    "    def __repr__(self):\n",
    "        return str(self.task_list)\n",
    "    \n",
    "    def __len__(self):\n",
    "        return len(self.task_list)\n",
    "    \n",
    "    def save(self):\n",
    "        with open(self.filename, \"w\") as f:\n",
    "            for task in self.task_list:\n",
    "                f.write(task)\n",
    "                f.write(\"\\n\")\n",
    "                \n",
    "    def load(self):\n",
    "        with open(self.filename, \"r\") as f:\n",
    "            for line in f:\n",
    "                self.add_task(Task(line.strip()))\n",
    "    \n",
    "    def display(self):\n",
    "        for id, task in enumerate(self.task_list):\n",
    "            print(id, task)\n"
   ]
  },
  {
   "cell_type": "code",
   "execution_count": 64,
   "metadata": {
    "collapsed": true
   },
   "outputs": [],
   "source": [
    "class TestTodoList:\n",
    "    def __init__(self):\n",
    "        test_count = 0\n",
    "        exception_count = 0\n",
    "        for f in dir(self):\n",
    "            if f.startswith(\"test_\"):\n",
    "                test_count += 1\n",
    "                try:\n",
    "                    self.__getattribute__(f)()\n",
    "                except:\n",
    "                    exception_count += 1\n",
    "        print(\"ran {} tests with {} unexpected exceptions\".format(test_count, exception_count))\n",
    "                    \n",
    "    \n",
    "    def test_new_todoList(self):\n",
    "        tl = TodoList()\n",
    "        \n",
    "    def test_new_add(self):\n",
    "        tl = TodoList()\n",
    "        tl.add_task(\"Learn to teach\")\n",
    "        \n",
    "    def test_len(self):\n",
    "        tl = TodoList()\n",
    "        assert len(tl) == 0\n",
    "        tl.add_task(\"teach\")\n",
    "        assert len(tl) == 1\n",
    "\n",
    "        \n",
    "    def test_save_load(self):\n",
    "        tl = TodoList(\"test.txt\")\n",
    "        tl.add_task(\"teach\")\n",
    "        tl.save()\n",
    "        \n",
    "        t2 = TodoList(\"test.txt\")\n",
    "        t2.load()\n",
    "        assert len(t2) == 1"
   ]
  },
  {
   "cell_type": "code",
   "execution_count": 65,
   "metadata": {
    "collapsed": false
   },
   "outputs": [
    {
     "name": "stdout",
     "output_type": "stream",
     "text": [
      "ran 4 tests with 0 unexpected exceptions\n"
     ]
    },
    {
     "data": {
      "text/plain": [
       "<__main__.TestTodoList at 0x10b6b0438>"
      ]
     },
     "execution_count": 65,
     "metadata": {},
     "output_type": "execute_result"
    }
   ],
   "source": [
    "TestTodoList()"
   ]
  },
  {
   "cell_type": "code",
   "execution_count": 59,
   "metadata": {
    "collapsed": true
   },
   "outputs": [],
   "source": [
    "first = True\n",
    "while first or other_condition:\n",
    "    first = False\n",
    "    do stuff."
   ]
  },
  {
   "cell_type": "code",
   "execution_count": null,
   "metadata": {
    "collapsed": true
   },
   "outputs": [],
   "source": []
  }
 ],
 "metadata": {
  "kernelspec": {
   "display_name": "Python 3",
   "language": "python",
   "name": "python3"
  },
  "language_info": {
   "codemirror_mode": {
    "name": "ipython",
    "version": 3
   },
   "file_extension": ".py",
   "mimetype": "text/x-python",
   "name": "python",
   "nbconvert_exporter": "python",
   "pygments_lexer": "ipython3",
   "version": "3.5.2"
  }
 },
 "nbformat": 4,
 "nbformat_minor": 0
}
