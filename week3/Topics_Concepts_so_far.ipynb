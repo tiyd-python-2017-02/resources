{
 "cells": [
  {
   "cell_type": "raw",
   "metadata": {},
   "source": [
    "collections - lists, dictionaries, sets, strings, tuples\n",
    "operators - +, -, /, //, ==, =, *, **, >, <, >=, <=, and, or\n",
    "*args\n",
    "**kwargs\n",
    "int, float\n",
    "orderedDict\n",
    "file i/o\n",
    "booleans\n",
    "recursion\n",
    "functions, methods\n",
    "Pair programming\n",
    "classes - objects, state, identity, behavior\n",
    "OOP\n",
    "TDD\n",
    "testing - unittest/nosetests\n",
    "CLI - UNIX/Mac\n",
    "git\n",
    "flow control\n",
    "docstring, comments\n",
    "README\n",
    "Markdown\n",
    "Efficiency\n",
    "loops - for, while\n",
    "conditionals\n",
    "csv (reader, dictreader)\n",
    "exceptions, exception handling\n",
    "slicing\n",
    "modules, importing\n",
    "decorators - briefly"
   ]
  }
 ],
 "metadata": {
  "kernelspec": {
   "display_name": "Python 3",
   "language": "python",
   "name": "python3"
  },
  "language_info": {
   "codemirror_mode": {
    "name": "ipython",
    "version": 3
   },
   "file_extension": ".py",
   "mimetype": "text/x-python",
   "name": "python",
   "nbconvert_exporter": "python",
   "pygments_lexer": "ipython3",
   "version": "3.5.2"
  }
 },
 "nbformat": 4,
 "nbformat_minor": 0
}
