{
 "cells": [
  {
   "cell_type": "code",
   "execution_count": 23,
   "metadata": {
    "collapsed": true
   },
   "outputs": [],
   "source": [
    "class Student:\n",
    "    def __init__(self, **kwargs):\n",
    "        self.id = kwargs['id']\n",
    "        self.name = kwargs['name']\n",
    "        self.fav_food = kwargs['fav_food']\n",
    "        self.fav_drink = kwargs['fav_drink']\n",
    "        self.fav_color = kwargs['fav_color']\n",
    "    \n",
    "    def __repr__(self):\n",
    "        return \"Hi, my name is {}\".format(self.name)"
   ]
  },
  {
   "cell_type": "code",
   "execution_count": 6,
   "metadata": {
    "collapsed": false
   },
   "outputs": [
    {
     "name": "stdout",
     "output_type": "stream",
     "text": [
      "{'Will': ['skyblue', 'seafood', 'soju'], 'Ryan': ['blue', 'tacos', 'beer'], 'Raj': ['black', 'roti', '151'], 'Josh': ['emerald', 'doubleup', 'jagger'], 'Nadia': ['blackalso', 'burrito', 'LIIT'], 'Dana': ['blue', 'oatmeal', 'milk'], 'Graham': ['mauve', 'sushi', 'stout'], 'Luis': ['black', 'pizza', 'IPAs']}\n"
     ]
    }
   ],
   "source": [
    "student_dict = {}\n",
    "with open(\"students.csv\",\"r\") as f:\n",
    "    for line in f:\n",
    "        los = line.strip().split(\",\")\n",
    "        student_dict[los[0]] = los[1:]\n",
    "print(student_dict)"
   ]
  },
  {
   "cell_type": "code",
   "execution_count": 7,
   "metadata": {
    "collapsed": true
   },
   "outputs": [],
   "source": [
    "import csv"
   ]
  },
  {
   "cell_type": "code",
   "execution_count": 12,
   "metadata": {
    "collapsed": false
   },
   "outputs": [
    {
     "name": "stdout",
     "output_type": "stream",
     "text": [
      "['Dana', 'blue', 'oatmeal', 'milk'] <class 'list'>\n",
      "['Graham', 'mauve', 'sushi', 'stout'] <class 'list'>\n",
      "['Josh', 'emerald', 'doubleup', 'jagger'] <class 'list'>\n",
      "['Luis', 'black', 'pizza', 'IPAs'] <class 'list'>\n",
      "['Nadia', 'blackalso', 'burrito', 'LIIT'] <class 'list'>\n",
      "['Raj', 'black', 'roti', '151'] <class 'list'>\n",
      "['Ryan', 'blue', 'tacos', 'beer'] <class 'list'>\n",
      "['Will', 'skyblue', 'seafood', 'soju'] <class 'list'>\n",
      "['name', 'fav_color', 'fav_food', 'fav_drink']\n"
     ]
    }
   ],
   "source": [
    "with open('students.csv') as f: # automatically closes the file when done\n",
    "    reader = csv.reader(f)\n",
    "    headers = next(reader)\n",
    "    \n",
    "    for something in reader:\n",
    "        print(something, type(something))\n",
    "        \n",
    "print(headers)"
   ]
  },
  {
   "cell_type": "code",
   "execution_count": 24,
   "metadata": {
    "collapsed": false
   },
   "outputs": [
    {
     "name": "stdout",
     "output_type": "stream",
     "text": [
      "[Hi, my name is Dana, Hi, my name is Graham, Hi, my name is Josh, Hi, my name is Luis, Hi, my name is Nadia, Hi, my name is Raj, Hi, my name is Ryan, Hi, my name is Will]\n"
     ]
    }
   ],
   "source": [
    "student_list = []\n",
    "with open('students.csv') as f: # automatically closes the file when done\n",
    "    reader = csv.DictReader(f)    \n",
    "    for record in reader:\n",
    "        student_list.append(Student(**record))\n",
    "\n"
   ]
  },
  {
   "cell_type": "code",
   "execution_count": 28,
   "metadata": {
    "collapsed": false
   },
   "outputs": [
    {
     "name": "stdout",
     "output_type": "stream",
     "text": [
      "{'three': 'fav_color', 'one': 'id', 'five': 'fav_drink', 'four': 'fav_food', 'two': 'name'}\n",
      "{'three': 'blue', 'one': '1', 'five': 'milk', 'four': 'oatmeal', 'two': 'Dana'}\n",
      "{'three': 'mauve', 'one': '2', 'five': 'stout', 'four': 'sushi', 'two': 'Graham'}\n",
      "{'three': 'emerald', 'one': '3', 'five': 'jagger', 'four': 'doubleup', 'two': 'Josh'}\n",
      "{'three': 'black', 'one': '4', 'five': 'IPAs', 'four': 'pizza', 'two': 'Luis'}\n",
      "{'three': 'blackalso', 'one': '5', 'five': 'LIIT', 'four': 'burrito', 'two': 'Nadia'}\n",
      "{'three': 'black', 'one': '7', 'five': '151', 'four': 'roti', 'two': 'Raj'}\n",
      "{'three': 'blue', 'one': '8', 'five': 'beer', 'four': 'tacos', 'two': 'Ryan'}\n",
      "{'three': 'skyblue', 'one': '9', 'five': 'soju', 'four': 'seafood', 'two': 'Will'}\n"
     ]
    }
   ],
   "source": [
    "\n",
    "student_list = []\n",
    "with open('students.csv') as f: # automatically closes the file when done\n",
    "    reader = csv.DictReader(f, fieldnames=[\"one\", \"two\", \"three\", \"four\", \"five\"])    \n",
    "    for record in reader:\n",
    "        print(record)\n",
    "\n"
   ]
  },
  {
   "cell_type": "code",
   "execution_count": 31,
   "metadata": {
    "collapsed": false
   },
   "outputs": [
    {
     "name": "stdout",
     "output_type": "stream",
     "text": [
      "{'three': 'fav_color', 'one': 'id', 'five': 'fav_drink', 'four': 'fav_food', 'two': 'name'}\n",
      "{'three': 'blue', 'one': '1', 'five': 'milk', 'four': 'oatmeal', 'two': 'Dana'}\n",
      "{'three': 'mauve', 'one': '2', 'five': 'stout', 'four': 'sushi', 'two': 'Graham'}\n",
      "{'three': 'emerald', 'one': '3', 'five': 'jagger', 'four': 'doubleup', 'two': 'Josh'}\n",
      "{'three': 'black', 'one': '4', 'five': 'IPAs', 'four': 'pizza', 'two': 'Luis'}\n",
      "{'three': 'blackalso', 'one': '5', 'five': 'LIIT', 'four': 'burrito', 'two': 'Nadia'}\n",
      "{'three': 'black', 'one': '7', 'five': '151', 'four': 'roti', 'two': 'Raj'}\n",
      "{'three': 'blue', 'one': '8', 'five': 'beer', 'four': 'tacos', 'two': 'Ryan'}\n",
      "{'three': 'skyblue', 'one': '9', 'five': 'soju', 'four': 'seafood', 'two': 'Will'}\n"
     ]
    }
   ],
   "source": [
    "student_list = []\n",
    "with open('students_pipe.csv') as f: # automatically closes the file when done\n",
    "    reader = csv.DictReader(f, delimiter=\"|\", fieldnames=[\"one\", \"two\", \"three\", \"four\", \"five\"])    \n",
    "    for record in reader:\n",
    "        print(record)"
   ]
  },
  {
   "cell_type": "code",
   "execution_count": null,
   "metadata": {
    "collapsed": true
   },
   "outputs": [],
   "source": []
  },
  {
   "cell_type": "code",
   "execution_count": 53,
   "metadata": {
    "collapsed": false
   },
   "outputs": [],
   "source": [
    "class StockDay:\n",
    "    def __init__(self, **kwargs):\n",
    "        self.__dict__.update(kwargs)\n",
    "\n",
    "    def day_change(self):\n",
    "        return float(self.Close) - float(self.Open)\n",
    "        \n",
    "    def __repr__(self):\n",
    "        return \"{} open: {}\\t close: {}\".format(self.Date, self.Open, self.Close)"
   ]
  },
  {
   "cell_type": "code",
   "execution_count": 54,
   "metadata": {
    "collapsed": false
   },
   "outputs": [],
   "source": [
    "days = []\n",
    "with open('EOD-GOOG.csv') as f: # automatically closes the file when done\n",
    "    reader = csv.DictReader(f)    \n",
    "    for record in reader:\n",
    "        days.append(StockDay(**record))"
   ]
  },
  {
   "cell_type": "code",
   "execution_count": 63,
   "metadata": {
    "collapsed": false
   },
   "outputs": [
    {
     "name": "stdout",
     "output_type": "stream",
     "text": [
      "2016-02-03 open: 770.22\t close: 726.95\n",
      "2015-07-17 open: 649.0\t close: 672.93\n",
      "2015-02-19 open: 538.04\t close: 542.87\n"
     ]
    }
   ],
   "source": [
    "print(min([day for day in days], key=lambda x: x.day_change()))\n",
    "print(max([day for day in days], key=lambda x: x.day_change()))\n",
    "print(max([day for day in days], key=lambda x: x.Volume))\n",
    "# for day in days:\n",
    "#     print(day.Date, day.day_change())"
   ]
  },
  {
   "cell_type": "code",
   "execution_count": null,
   "metadata": {
    "collapsed": true
   },
   "outputs": [],
   "source": []
  }
 ],
 "metadata": {
  "kernelspec": {
   "display_name": "Python 3",
   "language": "python",
   "name": "python3"
  },
  "language_info": {
   "codemirror_mode": {
    "name": "ipython",
    "version": 3
   },
   "file_extension": ".py",
   "mimetype": "text/x-python",
   "name": "python",
   "nbconvert_exporter": "python",
   "pygments_lexer": "ipython3",
   "version": "3.5.2"
  }
 },
 "nbformat": 4,
 "nbformat_minor": 0
}
